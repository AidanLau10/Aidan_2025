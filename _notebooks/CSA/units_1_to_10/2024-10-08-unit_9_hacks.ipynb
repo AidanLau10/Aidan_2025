{
 "cells": [
  {
   "cell_type": "markdown",
   "metadata": {},
   "source": [
    "---\n",
    "layout: post\n",
    "toc: true\n",
    "title: Unit 9 Inheritance\n",
    "description: Inheritance Hacks\n",
    "categories: [AP CSA]\n",
    "courses: { csa: {week: 6} }\n",
    "type: ccc\n",
    "permalink: /unit9hacks\n",
    "---"
   ]
  },
  {
   "cell_type": "markdown",
   "metadata": {
    "vscode": {
     "languageId": "bat"
    }
   },
   "source": [
    "# 9.2 Constructors for Subclasses Popcorn Hack 1"
   ]
  },
  {
   "cell_type": "code",
   "execution_count": null,
   "metadata": {
    "vscode": {
     "languageId": "java"
    }
   },
   "outputs": [],
   "source": [
    "public class Rectangle extends Shape {\n",
    "    public Rectangle() {\n",
    "        super();\n",
    "    }\n",
    "\n",
    "    public Rectangle(String name, int length, int width) {\n",
    "        super(name, length, width);\n",
    "    }\n",
    "\n",
    "\n",
    "}\n",
    "\n",
    "public class Triangle extends Shape {\n",
    "    public Triangle() {\n",
    "        super();\n",
    "    }\n",
    "\n",
    "    public Triangle(String name, int length, int width) {\n",
    "        super(name, length, width);\n",
    "    }\n",
    "}\n",
    "\n",
    "\n",
    "/* added circle and hexagon */\n",
    "public class Circle extends Shape {\n",
    "    public Circle() {\n",
    "        super();\n",
    "    }\n",
    "\n",
    "    public Triangle(String name, int length, int width) {\n",
    "        super(name, length, width);\n",
    "    }\n",
    "}\n",
    "\n",
    "public class Hexagon extends Shape {\n",
    "    public Hexagon() {\n",
    "        super();\n",
    "    }\n",
    "\n",
    "    public Hexagon(String name, int length, int width) {\n",
    "        super(name, length, width);\n",
    "    }\n",
    "}"
   ]
  },
  {
   "cell_type": "markdown",
   "metadata": {},
   "source": [
    "# 9.2 Constructors for Subclasses Optional Popcorn Hack "
   ]
  },
  {
   "cell_type": "code",
   "execution_count": 2,
   "metadata": {
    "vscode": {
     "languageId": "java"
    }
   },
   "outputs": [
    {
     "name": "stdout",
     "output_type": "stream",
     "text": [
      "Area of s1 = 50.0\n",
      "Area of s2 = 40.0\n",
      "Area of s3 = 50.0\n",
      "Shape: Shape\n",
      "Shape: rectangle\n",
      "This is a shape\n",
      "This is a rectangle\n"
     ]
    }
   ],
   "source": [
    "public class Shape {\n",
    "    protected String name;\n",
    "    private int length;\n",
    "    private int width;\n",
    "\n",
    "    // Default constructor\n",
    "    public Shape() {\n",
    "        this.name = \"Shape\";\n",
    "        this.length = 10;\n",
    "        this.width = 5;\n",
    "    }\n",
    "\n",
    "    // Parameterized constructor\n",
    "    public Shape(String name, int length, int width) {\n",
    "        this.name = name;\n",
    "        this.length = length;\n",
    "        this.width = width;\n",
    "    }\n",
    "\n",
    "    // Getter methods\n",
    "    public String get_name() {\n",
    "        return this.name;\n",
    "    }\n",
    "\n",
    "    public int get_length() {\n",
    "        return this.length;\n",
    "    }\n",
    "\n",
    "    public int get_width() {\n",
    "        return this.width;\n",
    "    }\n",
    "\n",
    "    // Setter methods\n",
    "    public void set_name(String n) {\n",
    "        this.name = n;\n",
    "    }\n",
    "\n",
    "    public void set_length(int a) {\n",
    "        this.length = a;\n",
    "    }\n",
    "\n",
    "    public void set_width(int b) {\n",
    "        this.width = b;\n",
    "    }\n",
    "\n",
    "    // Method to calculate the area\n",
    "    public double calc_area() {\n",
    "        return this.length * this.width;\n",
    "    }\n",
    "\n",
    "    // Method to print the shape\n",
    "    public void print_shape() {\n",
    "        System.out.println(\"Shape: \" + this.name);\n",
    "    }\n",
    "\n",
    "    // Additional method to print something\n",
    "    public void print_something() {\n",
    "        System.out.println(\"This is a shape\");\n",
    "    }\n",
    "}\n",
    "\n",
    "public class Rectangle extends Shape {\n",
    "    public Rectangle() {\n",
    "        super();\n",
    "    }\n",
    "\n",
    "    public Rectangle(String name, int length, int width) {\n",
    "        super(name, length, width);\n",
    "    }\n",
    "\n",
    "    @Override\n",
    "    public double calc_area() {\n",
    "        return (this.get_length() * this.get_width());\n",
    "    }\n",
    "\n",
    "    @Override\n",
    "    public void print_something() {\n",
    "        System.out.println(\"This is a rectangle\");\n",
    "    }\n",
    "}\n",
    "\n",
    "public class Triangle extends Shape {\n",
    "    public Triangle() {\n",
    "        super();\n",
    "    }\n",
    "\n",
    "    public Triangle(String name, int length, int width) {\n",
    "        super(name, length, width);\n",
    "    }\n",
    "\n",
    "    @Override\n",
    "    public double calc_area() {\n",
    "        return (get_length() * get_width() * 0.5);\n",
    "    }\n",
    "}\n",
    "\n",
    "public class Driver {\n",
    "    public static void main(String[] args) {\n",
    "        Shape s1 = new Shape();\n",
    "        Shape s2 = new Rectangle(\"rectangle\", 4, 10);\n",
    "        Shape s3 = new Triangle(\"triangle\", 5, 20);\n",
    "\n",
    "        System.out.println(\"Area of s1 = \" + s1.calc_area());\n",
    "        System.out.println(\"Area of s2 = \" + s2.calc_area());\n",
    "        System.out.println(\"Area of s3 = \" + s3.calc_area());\n",
    "\n",
    "        s1.print_shape();\n",
    "        s2.print_shape();\n",
    "\n",
    "        // Using the overridden method\n",
    "        s1.print_something();\n",
    "        s2.print_something();\n",
    "    }\n",
    "}\n",
    "\n",
    "// Run the driver code\n",
    "Driver.main(new String[0]);\n"
   ]
  },
  {
   "cell_type": "markdown",
   "metadata": {},
   "source": [
    "# 9.3/9.4 Popcorn Hack 1"
   ]
  },
  {
   "cell_type": "code",
   "execution_count": 3,
   "metadata": {
    "vscode": {
     "languageId": "java"
    }
   },
   "outputs": [],
   "source": [
    "public class Triangle extends Shape {\n",
    "    private int side1;\n",
    "    private int side2;\n",
    "    private int side3;\n",
    "\n",
    "\n",
    "    public Triangle() {\n",
    "        this.name = \"triangle\";\n",
    "        this.side1 = 1;\n",
    "        this.side2 = 2;\n",
    "        this.side3 = 3;\n",
    "    }\n",
    "\n",
    "    // Constructor that takes a name and three side lengths\n",
    "    public Triangle(String name, int s1, int s2, int s3) {\n",
    "        super(name, 0, 0); // Call to Shape constructor to set the name\n",
    "        this.name = \"triangle\";\n",
    "        this.side1 = s1;\n",
    "        this.side2 = s2;\n",
    "        this.side3 = s3;\n",
    "    }\n",
    "\n",
    "    @Override\n",
    "    public double calc_area() {\n",
    "        double area = 0.0;\n",
    "        //Write Code Here\n",
    "        double s = (side1 + side2 + side3) / 2.0;\n",
    "        area = Math.sqrt(s * (s - side1) * (s - side2) * (s - side3));\n",
    "        return area;\n",
    "        //expected output 6\n",
    "    }\n",
    "    \n",
    "}"
   ]
  },
  {
   "cell_type": "markdown",
   "metadata": {},
   "source": [
    "# 9.3/9.4 Popcorn Hack 2"
   ]
  },
  {
   "cell_type": "code",
   "execution_count": 4,
   "metadata": {
    "vscode": {
     "languageId": "java"
    }
   },
   "outputs": [
    {
     "name": "stdout",
     "output_type": "stream",
     "text": [
      "0.0\n"
     ]
    },
    {
     "ename": "CompilationException",
     "evalue": "",
     "output_type": "error",
     "traceback": [
      "\u001b[1m\u001b[30m|   \u001b[1m\u001b[30mSystem.out.println(\u001b[0m\u001b[1m\u001b[30m\u001b[41mti84.calc_perimeter\u001b[0m\u001b[1m\u001b[30m());\u001b[0m",
      "\u001b[1m\u001b[31mcannot find symbol\u001b[0m",
      "\u001b[1m\u001b[31m  symbol:   method calc_perimeter()\u001b[0m",
      ""
     ]
    }
   ],
   "source": [
    "public class Triangle extends Shape {\n",
    "    private int side1;\n",
    "    private int side2;\n",
    "    private int side3;\n",
    "\n",
    "\n",
    "    public Triangle() {\n",
    "        this.name = \"triangle\";\n",
    "        this.side1 = 1;\n",
    "        this.side2 = 2;\n",
    "        this.side3 = 3;\n",
    "    }\n",
    "\n",
    "    // Constructor that takes a name and three side lengths\n",
    "    public Triangle(String name, int s1, int s2, int s3) {\n",
    "        super(name, 0, 0); // Call to Shape constructor to set the name\n",
    "        this.name = \"triangle\";\n",
    "        this.side1 = s1;\n",
    "        this.side2 = s2;\n",
    "        this.side3 = s3;\n",
    "    }\n",
    "\n",
    "    @Override\n",
    "    public double calc_area() {\n",
    "        double area = 0;\n",
    "        //your previous area code\n",
    "        return area;\n",
    "    }\n",
    "\n",
    "    // Add perimeter method override here\n",
    "    //expected output 12\n",
    "    \n",
    "}\n",
    "Triangle ti84 = new Triangle(\"triangle\", 3, 4, 5);\n",
    "System.out.println(ti84.calc_area());\n",
    "System.out.println(ti84.calc_perimeter());"
   ]
  },
  {
   "cell_type": "markdown",
   "metadata": {},
   "source": [
    "# 9.5/9.6 Popcorn Hack 1"
   ]
  },
  {
   "cell_type": "code",
   "execution_count": 12,
   "metadata": {
    "vscode": {
     "languageId": "java"
    }
   },
   "outputs": [
    {
     "name": "stdout",
     "output_type": "stream",
     "text": [
      "Drawing a triangle\n"
     ]
    }
   ],
   "source": [
    "class Shape {\n",
    "    public String draw() {\n",
    "        return \"Drawing a shape\";\n",
    "    }\n",
    "}\n",
    "\n",
    "class Triangle extends Shape {\n",
    "    @Override\n",
    "    public String draw() {\n",
    "        // TODO: Implement this method\n",
    "        return \"Drawing a triangle\";\n",
    "    }\n",
    "}\n",
    "\n",
    "Shape myTriangle = new Triangle();\n",
    "System.out.println(myTriangle.draw()); // Should output: \"Drawing a triangle.\"\n"
   ]
  },
  {
   "cell_type": "markdown",
   "metadata": {
    "vscode": {
     "languageId": "java"
    }
   },
   "source": [
    "### Expanding Your Skills: Adding a Rectangle Class"
   ]
  },
  {
   "cell_type": "code",
   "execution_count": 11,
   "metadata": {
    "vscode": {
     "languageId": "java"
    }
   },
   "outputs": [
    {
     "name": "stdout",
     "output_type": "stream",
     "text": [
      "Drawing a rectangle\n"
     ]
    }
   ],
   "source": [
    "class Shape {\n",
    "    public String draw() {\n",
    "        return \"Drawing a shape\";\n",
    "    }\n",
    "}\n",
    "\n",
    "class Rectangle extends Shape {\n",
    "    @Override\n",
    "    public String draw() {\n",
    "        // TODO: Implement this method\n",
    "        return \"Drawing a rectangle\";\n",
    "    }\n",
    "}\n",
    "\n",
    "\n",
    "Shape myRectangle = new Rectangle();\n",
    "System.out.println(myRectangle.draw()); // Should output: \"Drawing a rectangle.\"\n",
    "\n"
   ]
  },
  {
   "cell_type": "markdown",
   "metadata": {},
   "source": [
    "# 9.5/9.6 Homework Hack"
   ]
  },
  {
   "cell_type": "code",
   "execution_count": 5,
   "metadata": {
    "vscode": {
     "languageId": "java"
    }
   },
   "outputs": [
    {
     "name": "stdout",
     "output_type": "stream",
     "text": [
      "Area of shape1 = 50.0\n",
      "Area of shape2 = 40.0\n",
      "Area of shape3 = 50.0\n",
      "Area of shape4 = 314.0\n",
      "Shape: GeometricShape\n",
      "Shape: rectangle\n",
      "Shape: ellipse\n",
      "This is a geometric shape\n",
      "This is a rectangular shape\n",
      "Shape: ellipse\n"
     ]
    }
   ],
   "source": [
    "public class GeometricShape {\n",
    "    protected String shapeName;\n",
    "    private int shapeLength;\n",
    "    private int shapeWidth;\n",
    "\n",
    "    public GeometricShape() {\n",
    "        this.shapeName = \"GeometricShape\";\n",
    "        this.shapeLength = 10;\n",
    "        this.shapeWidth = 5;\n",
    "    }\n",
    "\n",
    "    public GeometricShape(String shapeName, int shapeLength, int shapeWidth) {\n",
    "        this.shapeName = shapeName;\n",
    "        this.shapeLength = shapeLength;\n",
    "        this.shapeWidth = shapeWidth;\n",
    "    }\n",
    "\n",
    "    public String getShapeName() {\n",
    "        return this.shapeName;\n",
    "    }\n",
    "\n",
    "    public int getShapeLength() {\n",
    "        return this.shapeLength;\n",
    "    }\n",
    "\n",
    "    public int getShapeWidth() {\n",
    "        return this.shapeWidth;\n",
    "    }\n",
    "\n",
    "    public void setShapeName(String shapeName) {\n",
    "        this.shapeName = shapeName;\n",
    "    }\n",
    "\n",
    "    public void setShapeLength(int shapeLength) {\n",
    "        this.shapeLength = shapeLength;\n",
    "    }\n",
    "\n",
    "    public void setShapeWidth(int shapeWidth) {\n",
    "        this.shapeWidth = shapeWidth;\n",
    "    }\n",
    "\n",
    "    public double calculateArea() {\n",
    "        return this.shapeLength * this.shapeWidth;\n",
    "    }\n",
    "\n",
    "    public void displayShape() {\n",
    "        System.out.println(\"Shape: \" + this.shapeName);\n",
    "    }\n",
    "\n",
    "    public void displayMessage() {\n",
    "        System.out.println(\"This is a geometric shape\");\n",
    "    }\n",
    "}\n",
    "\n",
    "public class RectangularShape extends GeometricShape {\n",
    "    public RectangularShape() {\n",
    "        super();\n",
    "    }\n",
    "\n",
    "    public RectangularShape(String shapeName, int shapeLength, int shapeWidth) {\n",
    "        super(shapeName, shapeLength, shapeWidth);\n",
    "    }\n",
    "\n",
    "    @Override\n",
    "    public double calculateArea() {\n",
    "        return (this.getShapeLength() * this.getShapeWidth());\n",
    "    }\n",
    "\n",
    "    @Override\n",
    "    public void displayMessage() {\n",
    "        System.out.println(\"This is a rectangular shape\");\n",
    "    }\n",
    "}\n",
    "\n",
    "public class TriangularShape extends GeometricShape {\n",
    "    public TriangularShape() {\n",
    "        super();\n",
    "    }\n",
    "\n",
    "    public TriangularShape(String shapeName, int shapeLength, int shapeWidth) {\n",
    "        super(shapeName, shapeLength, shapeWidth);\n",
    "    }\n",
    "\n",
    "    @Override\n",
    "    public double calculateArea() {\n",
    "        return (getShapeLength() * getShapeWidth() * 0.5);\n",
    "    }\n",
    "}\n",
    "\n",
    "public class EllipticalShape extends GeometricShape {\n",
    "    public EllipticalShape() {\n",
    "        super();\n",
    "    }\n",
    "\n",
    "    public EllipticalShape(String shapeName, int shapeLength, int shapeWidth) {\n",
    "        super(shapeName, shapeLength, shapeWidth);\n",
    "    }\n",
    "\n",
    "    @Override\n",
    "    public double calculateArea() {\n",
    "        return (this.getShapeLength() * this.getShapeWidth() * 3.14);\n",
    "    }\n",
    "\n",
    "    @Override\n",
    "    public void displayMessage() {\n",
    "        System.out.println(\"This is an elliptical shape\");\n",
    "    }\n",
    "}\n",
    "\n",
    "public class ShapeDriver {\n",
    "    public static void main(String[] args) {\n",
    "        GeometricShape shape1 = new GeometricShape();\n",
    "        GeometricShape shape2 = new RectangularShape(\"rectangle\", 4, 10);\n",
    "        GeometricShape shape3 = new TriangularShape(\"triangle\", 5, 20);\n",
    "        GeometricShape shape4 = new EllipticalShape(\"ellipse\", 5, 20);\n",
    "\n",
    "        System.out.println(\"Area of shape1 = \" + shape1.calculateArea());\n",
    "        System.out.println(\"Area of shape2 = \" + shape2.calculateArea());\n",
    "        System.out.println(\"Area of shape3 = \" + shape3.calculateArea());\n",
    "        System.out.println(\"Area of shape4 = \" + shape4.calculateArea());\n",
    "\n",
    "        shape1.displayShape();\n",
    "        shape2.displayShape();\n",
    "        shape4.displayShape();\n",
    "\n",
    "        shape1.displayMessage();\n",
    "        shape2.displayMessage();\n",
    "        shape4.displayShape();\n",
    "    }\n",
    "}\n",
    "\n",
    "ShapeDriver.main(new String[0]);"
   ]
  },
  {
   "cell_type": "markdown",
   "metadata": {
    "vscode": {
     "languageId": "java"
    }
   },
   "source": [
    "# 9.6 Popcorn Hack 1"
   ]
  },
  {
   "cell_type": "code",
   "execution_count": null,
   "metadata": {
    "vscode": {
     "languageId": "java"
    }
   },
   "outputs": [],
   "source": [
    "class Animal {\n",
    "    public void makeSound() {\n",
    "        System.out.println(\"Some generic animal sound\");\n",
    "    }\n",
    "}\n",
    "\n",
    "class Dog extends Animal {\n",
    "    @Override\n",
    "    public void makeSound() {\n",
    "        System.out.println(\"Bark\");\n",
    "    }\n",
    "}\n",
    "\n",
    "class Cat extends Animal {\n",
    "    @Override\n",
    "    public void makeSound() {\n",
    "        System.out.println(\"Meow\");\n",
    "    }\n",
    "}\n",
    "\n",
    "public class Main {\n",
    "    public static void main(String[] args) {\n",
    "        Animal myDog = new Dog();\n",
    "        Animal myCat = new Cat();\n",
    "\n",
    "        myDog.makeSound(); // Outputs: Bark\n",
    "        myCat.makeSound(); // Outputs: Meow\n",
    "    }\n",
    "}\n",
    "\n",
    "Main.main(null);"
   ]
  },
  {
   "cell_type": "markdown",
   "metadata": {},
   "source": [
    "# 9.6 Popcorn Hack 2"
   ]
  },
  {
   "cell_type": "markdown",
   "metadata": {},
   "source": [
    "- "
   ]
  },
  {
   "cell_type": "markdown",
   "metadata": {},
   "source": [
    "# 9.7 Popcorn Hack"
   ]
  },
  {
   "cell_type": "code",
   "execution_count": 18,
   "metadata": {
    "vscode": {
     "languageId": "java"
    }
   },
   "outputs": [
    {
     "name": "stdout",
     "output_type": "stream",
     "text": [
      "Class of object: class REPL.$JShell$13D$Shape\n",
      "Shape description: This is a shape.\n"
     ]
    }
   ],
   "source": [
    "class Shape {\n",
    "    // Overriding the toString() method from the Object class\n",
    "    @Override\n",
    "    public String toString() {\n",
    "        return \"This is a shape.\";\n",
    "    }\n",
    "}\n",
    "\n",
    "Shape myShape = new Shape();\n",
    "\n",
    "System.out.println(\"Class of object: \" + myShape.getClass()); // Outputs: Class of object: class Shape\n",
    "System.out.println(\"Shape description: \" + myShape.toString()); // Outputs: Shape description: This is a shape."
   ]
  },
  {
   "cell_type": "markdown",
   "metadata": {},
   "source": [
    "# FRQ Prompt"
   ]
  },
  {
   "cell_type": "code",
   "execution_count": 21,
   "metadata": {
    "vscode": {
     "languageId": "java"
    }
   },
   "outputs": [
    {
     "name": "stdout",
     "output_type": "stream",
     "text": [
      "Title: Introduction to Java, Price: $79.99, Edition: 3\n",
      "Title: Introduction to Java, Price: $59.99, Edition: 2\n",
      "Can tb1 substitute for tb2? true\n"
     ]
    },
    {
     "name": "stderr",
     "output_type": "stream",
     "text": [
      "Error: Edition must be a positive integer.\n"
     ]
    }
   ],
   "source": [
    "class Book {\n",
    "    private String title;\n",
    "    private double price;\n",
    "\n",
    "    public Book(String title, double price) {\n",
    "        this.title = title;\n",
    "        this.price = price;\n",
    "    }\n",
    "\n",
    "    public String getBookInfo() {\n",
    "        return \"Title: \" + title + \", Price: $\" + price;\n",
    "    }\n",
    "\n",
    "    public String getTitle() {\n",
    "        return title;\n",
    "    }\n",
    "}\n",
    "\n",
    "class Textbook extends Book {\n",
    "    private int edition;\n",
    "\n",
    "    public Textbook(String title, double price, int edition) {\n",
    "        super(title, price); \n",
    "        if (edition <= 0) {\n",
    "            throw new IllegalArgumentException(\"Edition must be a positive integer.\");\n",
    "        }\n",
    "        this.edition = edition;\n",
    "    }\n",
    "\n",
    "    public int getEdition() {\n",
    "        return edition;\n",
    "    }\n",
    "\n",
    "    public boolean canSubstituteFor(Textbook other) {\n",
    "        return this.getTitle().equals(other.getTitle()) && this.edition >= other.edition;\n",
    "    }\n",
    "\n",
    "    @Override\n",
    "    public String getBookInfo() {\n",
    "        return super.getBookInfo() + \", Edition: \" + edition;\n",
    "    }\n",
    "\n",
    "    @Override\n",
    "    public String toString() {\n",
    "        return getBookInfo();\n",
    "    }\n",
    "}\n",
    "\n",
    "\n",
    "try {\n",
    "    Textbook tb1 = new Textbook(\"Introduction to Java\", 79.99, 3);\n",
    "    Textbook tb2 = new Textbook(\"Introduction to Java\", 59.99, 2);\n",
    "\n",
    "    System.out.println(tb1); \n",
    "    System.out.println(tb2); \n",
    "\n",
    "    System.out.println(\"Can tb1 substitute for tb2? \" + tb1.canSubstituteFor(tb2)); \n",
    "    \n",
    "    Textbook tb3 = new Textbook(\"Data Structures\", 69.99, -1); \n",
    "} catch (IllegalArgumentException e) {\n",
    "    System.err.println(\"Error: \" + e.getMessage());\n",
    "}\n",
    "\n"
   ]
  },
  {
   "cell_type": "markdown",
   "metadata": {},
   "source": [
    "# Multiple Choice"
   ]
  },
  {
   "cell_type": "markdown",
   "metadata": {},
   "source": [
    "### 1. What is wrong with this block of code?\n"
   ]
  },
  {
   "cell_type": "code",
   "execution_count": 25,
   "metadata": {
    "vscode": {
     "languageId": "java"
    }
   },
   "outputs": [
    {
     "name": "stdout",
     "output_type": "stream",
     "text": [
      "6.0\n"
     ]
    }
   ],
   "source": [
    "class Shape{\n",
    "    private double length = 0;\n",
    "    private double width = 0;\n",
    "    \n",
    "    public Shape(double length, double width){\n",
    "        this.length = length;\n",
    "        this.width = width;\n",
    "    }\n",
    "\n",
    "    public double getArea(){\n",
    "        return this.length * this.width;\n",
    "    }\n",
    "\n",
    "    public String toString(){\n",
    "        return \"Shape length:\"+ (new Double(this.length)).toString() + \" width:\" + (new Double(this.width)).toString();\n",
    "    }\n",
    "}\n",
    "\n",
    "Shape myShape = new Shape(2,3);\n",
    "\n",
    "System.out.println(myShape.getArea());"
   ]
  },
  {
   "cell_type": "markdown",
   "metadata": {},
   "source": [
    "# ANSWER: c. The toString() method must be public\n",
    "\n",
    "- Since the toString() method is inherited from Object, it has to be public to override the inherited method. "
   ]
  },
  {
   "cell_type": "markdown",
   "metadata": {},
   "source": [
    "### 2. Which method cannot be exectuted in the following example of Polymorphism"
   ]
  },
  {
   "cell_type": "code",
   "execution_count": 26,
   "metadata": {
    "vscode": {
     "languageId": "java"
    }
   },
   "outputs": [],
   "source": [
    "class Water{\n",
    "    public String toString(){\n",
    "        return \"Water\";\n",
    "    }\n",
    "\n",
    "    private boolean isSalty(){\n",
    "        return false;\n",
    "    }\n",
    "\n",
    "    public String typeOfWater(){\n",
    "        return \"Static\";\n",
    "    }\n",
    "\n",
    "}\n",
    "\n",
    "class Lake extends Water{\n",
    "    public String toString(){\n",
    "        return \"Lake\";\n",
    "    }\n",
    "\n",
    "    public boolean isSalty(){\n",
    "        return true;\n",
    "    }\n",
    "}\n",
    "\n",
    "Water myLakeWater = new Lake();"
   ]
  },
  {
   "cell_type": "markdown",
   "metadata": {},
   "source": [
    "# ANSWER: b) isSalty()\n",
    "\n",
    "- Since isSalt() is private, it cannot be accessed outside of it. "
   ]
  }
 ],
 "metadata": {
  "kernelspec": {
   "display_name": "java (IJava/j!)",
   "language": "java",
   "name": "jbang-ijava"
  },
  "language_info": {
   "codemirror_mode": "java",
   "file_extension": ".jshell",
   "mimetype": "text/x-java-source",
   "name": "Java",
   "pygments_lexer": "java",
   "version": "17.0.12+0"
  }
 },
 "nbformat": 4,
 "nbformat_minor": 2
}
