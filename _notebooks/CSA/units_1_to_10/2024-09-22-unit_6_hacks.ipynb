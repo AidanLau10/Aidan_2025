{
 "cells": [
  {
   "cell_type": "markdown",
   "metadata": {},
   "source": [
    "---\n",
    "layout: post\n",
    "toc: true\n",
    "title: Unit 6 - Arrays Hacks\n",
    "description: Arrays Hacks\n",
    "categories: [AP CSA]\n",
    "courses: { csa: {week: 6} }\n",
    "type: ccc\n",
    "permalink: /unit6lesson\n",
    "---"
   ]
  },
  {
   "cell_type": "markdown",
   "metadata": {},
   "source": [
    "# 6.1 Array Creation and Access"
   ]
  },
  {
   "cell_type": "markdown",
   "metadata": {},
   "source": [
    "## Popcorn Hack 1(Time 0.5 minute)\n",
    "\n",
    "Create an array that represents numerous car brands(Audi, toyota,etc. )"
   ]
  },
  {
   "cell_type": "code",
   "execution_count": 1,
   "metadata": {
    "vscode": {
     "languageId": "java"
    }
   },
   "outputs": [
    {
     "name": "stdout",
     "output_type": "stream",
     "text": [
      "[Audi, Toyota, Nissan, Lexus, Honda]\n"
     ]
    }
   ],
   "source": [
    "import java.util.Arrays;\n",
    "\n",
    "String[] carBrands = {\"Audi\", \"Toyota\", \"Nissan\", \"Lexus\", \"Honda\"};\n",
    "System.out.println(Arrays.toString(carBrands));"
   ]
  },
  {
   "cell_type": "markdown",
   "metadata": {},
   "source": [
    "## Popcorn Hack #2(Time 1.5 Minutes)\n",
    "\n",
    "1. Make an array of chars, representing people’s grades\n",
    "2. Try to adjust the letter grade of at least 3 people"
   ]
  },
  {
   "cell_type": "code",
   "execution_count": null,
   "metadata": {
    "vscode": {
     "languageId": "java"
    }
   },
   "outputs": [],
   "source": [
    "public class AdjustGrades {\n",
    "    public static void main(String[] args) {        \n",
    "        char[] grades = {'B', 'C', 'A', 'D', 'F', 'B'};\n",
    "        \n",
    "        System.out.println(\"Original Grades:\");\n",
    "        for (int i = 0; i < grades.length; i++) {\n",
    "            System.out.println(\"Person \" + (i+1) + \": \" + grades[i]);\n",
    "        }\n",
    "\n",
    "        grades[1] = 'B'; \n",
    "        grades[3] = 'C'; \n",
    "        grades[4] = 'D'; \n",
    "\n",
    "        System.out.println(\"\\nAdjusted Grades:\");\n",
    "        for (int i = 0; i < grades.length; i++) {\n",
    "            System.out.println(\"Person \" + (i+1) + \": \" + grades[i]);\n",
    "        }\n",
    "    }\n",
    "}\n",
    "\n",
    "AdjustGrades.main(null);\n"
   ]
  },
  {
   "cell_type": "markdown",
   "metadata": {},
   "source": [
    "# 6.2 - Traversing Array (1D)"
   ]
  },
  {
   "cell_type": "markdown",
   "metadata": {},
   "source": [
    "## Popcorn hack question\n",
    "\n",
    "Which part of the following code would I want to change if I wanted to access all odd indices of the list.\n",
    "\n",
    "- ANSWER: You would change the starting index to 1 instead of 0 so each subsequent number is odd"
   ]
  },
  {
   "cell_type": "code",
   "execution_count": 4,
   "metadata": {
    "vscode": {
     "languageId": "java"
    }
   },
   "outputs": [
    {
     "name": "stdout",
     "output_type": "stream",
     "text": [
      "Odd Index\n",
      "1\n",
      "3\n",
      "5\n"
     ]
    }
   ],
   "source": [
    "// EVENOdd\n",
    "int[] list = {0, 1, 2, 3, 4, 5};\n",
    "System.out.println(\"Odd Index\");\n",
    "for(int index = 1; index < list.length; index+=2){\n",
    "    System.out.println(list[index]);\n",
    "}"
   ]
  },
  {
   "cell_type": "code",
   "execution_count": null,
   "metadata": {
    "vscode": {
     "languageId": "java"
    }
   },
   "outputs": [],
   "source": [
    "int [] list = new int[5];\n",
    "int index = 0; \n",
    "\n",
    "while (index < list.length) \n",
    "{\n",
    "    // Do something\n",
    "    index ++; \n",
    "}\n",
    "\n",
    "System.out.println(\"New index: \" + index);"
   ]
  },
  {
   "cell_type": "markdown",
   "metadata": {},
   "source": [
    "## Popcorn hack question:\n",
    "\n",
    "This while loop and the for loop we used earlier accomplish the same task. The main difference is that after the loop is completed, the variable ‘index’ in the while loop will still exist. The variable ‘i’ in the for loop will not. Why?\n",
    "\n",
    "ANSWER: Look at the for loop code: the index variable is declared inside the for statement. Now look at the while statement: the index variable is declared in line 2 outside the while statement. This means the variable will always exist for the while loop while the for loop will only exist WITHIN the loop."
   ]
  },
  {
   "cell_type": "markdown",
   "metadata": {},
   "source": [
    "## Popcorn Hack:\n",
    "Create/complete the code in order to return the average grade of all grades in the list of grades."
   ]
  },
  {
   "cell_type": "code",
   "execution_count": 10,
   "metadata": {
    "vscode": {
     "languageId": "java"
    }
   },
   "outputs": [
    {
     "name": "stdout",
     "output_type": "stream",
     "text": [
      "The average of the grades is: 68.66666666666667\n",
      "Man, you guys need to study more\n"
     ]
    }
   ],
   "source": [
    "public class GradeAverage {\n",
    "    public static void main(String[] args) {\n",
    "        int[] grades = {80, 50, 70, 20, 80, 82};\n",
    "        int sum = 0;\n",
    "        double average;\n",
    "        \n",
    "        for (int i = 0; i < grades.length; i++) {\n",
    "            grades[i] += 5; \n",
    "            sum += grades[i];\n",
    "        }\n",
    "\n",
    "        average = (double) sum / grades.length; \n",
    "        \n",
    "        System.out.println(\"The average of the grades is: \" + average);\n",
    "\n",
    "        if (average < 70) {\n",
    "            System.out.println(\"Man, you guys need to study more\");\n",
    "        }\n",
    "    }\n",
    "}\n",
    "\n",
    "GradeAverage.main(null);\n"
   ]
  },
  {
   "cell_type": "markdown",
   "metadata": {},
   "source": [
    "# 6.3 Enhanced For Loop for Arrays"
   ]
  },
  {
   "cell_type": "markdown",
   "metadata": {},
   "source": [
    "## Popcorn Hack: Rewrite For Loop with For Each Loop\n",
    "\n",
    "You are working as an intern for a car sales company at their IT department. Your new task your boss gave you is to post the prices and names of the newest cars to be sold The previous IT developer couldnt get their for loop to work. Could you fix the issue?\n",
    "\n",
    "Given the following code, rewrite the script to use a for each loop instead of the for loop and fix the problem"
   ]
  },
  {
   "cell_type": "code",
   "execution_count": 11,
   "metadata": {
    "vscode": {
     "languageId": "java"
    }
   },
   "outputs": [
    {
     "name": "stdout",
     "output_type": "stream",
     "text": [
      "Car: CSAwesomeCar, Price: $500\n",
      "Car: ArrayceCar, Price: $5000\n",
      "Car: MortMobile, Price: $9999\n"
     ]
    }
   ],
   "source": [
    "import java.util.HashMap;\n",
    "import java.util.Map;\n",
    "\n",
    "public class CarSales {\n",
    "    public static void main(String[] args) {\n",
    "        Map<String, Integer> carMap = new HashMap<>();\n",
    "\n",
    "        carMap.put(\"MortMobile\", 9999);\n",
    "        carMap.put(\"CSAwesomeCar\", 500);\n",
    "        carMap.put(\"ArrayceCar\", 5000);\n",
    "\n",
    "        for (Map.Entry<String, Integer> entry : carMap.entrySet()) {\n",
    "            System.out.println(\"Car: \" + entry.getKey() + \", Price: $\" + entry.getValue());\n",
    "        }\n",
    "    }\n",
    "}\n",
    "\n",
    "CarSales.main(null);\n"
   ]
  },
  {
   "cell_type": "markdown",
   "metadata": {},
   "source": [
    "# Final Hack\n",
    "\n",
    "Finish the following code with a for each and normal for loop"
   ]
  },
  {
   "cell_type": "code",
   "execution_count": 12,
   "metadata": {
    "vscode": {
     "languageId": "java"
    }
   },
   "outputs": [
    {
     "name": "stdout",
     "output_type": "stream",
     "text": [
      "false\n",
      "true\n",
      "false\n",
      "true\n",
      "false\n",
      "true\n",
      "true\n",
      "false\n",
      "true\n",
      "false\n",
      "true\n",
      "false\n",
      "true\n",
      "true\n"
     ]
    }
   ],
   "source": [
    "int[] nums = {1,2,3,4,5,6,2000};\n",
    "\n",
    "for(int i=0;i<nums.length;i++)\n",
    "{\n",
    "    System.out.println(nums[i] % 2 ==0);\n",
    "}\n",
    "\n",
    "for(int number : nums)\n",
    "{\n",
    "    System.out.println(number % 2 ==0);\n",
    "}"
   ]
  },
  {
   "cell_type": "markdown",
   "metadata": {},
   "source": [
    "# 6.4 Developing Algorithms Using Arrays"
   ]
  },
  {
   "cell_type": "markdown",
   "metadata": {
    "vscode": {
     "languageId": "java"
    }
   },
   "source": [
    "## Popcorn Hack\n",
    "Implement a function to find the minimum of the EVEN INDEXED elements in array of integers."
   ]
  },
  {
   "cell_type": "code",
   "execution_count": 3,
   "metadata": {
    "vscode": {
     "languageId": "java"
    }
   },
   "outputs": [],
   "source": [
    "public class MinEvenIndex {\n",
    "    public static void main(String[] args) {\n",
    "        int[] nums = {10, 20, 5, 30, 2, 50}; // Example array\n",
    "        System.out.println(findMinEven(nums));\n",
    "        \n",
    "        int[] emptyArray = {};\n",
    "        System.out.println(findMinEven(emptyArray)); // Test with an empty array\n",
    "    }\n",
    "\n",
    "    private static double findMinEven(int[] values) {\n",
    "        if (values.length == 0) {\n",
    "            return Double.NaN; // Return NaN for an empty array\n",
    "        }\n",
    "\n",
    "        double min = Double.MAX_VALUE; // Initialize min to maximum value\n",
    "        boolean found = false; // Flag to check if even indexed elements are found\n",
    "\n",
    "        for (int i = 0; i < values.length; i += 2) { // Iterate over even indices\n",
    "            found = true; // Set flag to true since we found at least one even indexed element\n",
    "            if (values[i] < min) {\n",
    "                min = values[i]; // Update min if current value is smaller\n",
    "            }\n",
    "        }\n",
    "\n",
    "        return found ? min : Double.NaN; // Return min if found, otherwise return NaN\n",
    "    }\n",
    "}\n"
   ]
  },
  {
   "cell_type": "markdown",
   "metadata": {},
   "source": [
    "# Challenge Hack: \n",
    "\n",
    "- Create a function that iterates through every X items and shifts only those elements Y shift left.\n",
    "\n",
    "Example: ({1, 2, 3, 4, 5, 6}, Y = 1, X = 2) Output: {5, 2, 1, 4, 3, 6}\n",
    "\n",
    "Example: ({1, 2, 3, 4, 5, 6, 7, 8, 9, 10}, Y = 2, X = 3) Output: {10, 2, 3, 1, 5, 6, 4, 8, 9, 7}\n",
    "\n"
   ]
  },
  {
   "cell_type": "code",
   "execution_count": 2,
   "metadata": {
    "vscode": {
     "languageId": "java"
    }
   },
   "outputs": [],
   "source": [
    "public class ShiftArray {\n",
    "    public static void main(String[] args) {\n",
    "        int[] numbers = {1, 2, 3, 4, 5, 6, 7, 8, 9, 10, 11, 12, 13, 14, 15, 16, 17, 18, 19, 20};\n",
    "        int shift = 2;\n",
    "        int space = 4;\n",
    "\n",
    "        for (int value : shiftRight(numbers, shift, space)) {\n",
    "            System.out.print(value + \" \");\n",
    "        }\n",
    "    }\n",
    "\n",
    "    private static int[] shiftRight(int[] values, int shift, int space) {\n",
    "        int[] result = values.clone();\n",
    "\n",
    "        for (int i = 0; i < values.length; i += space) {\n",
    "            int shiftIndex = i + shift;\n",
    "            if (shiftIndex < values.length) {\n",
    "                for (int j = i; j < i + space; j++) {\n",
    "                    if (j + shift < values.length) {\n",
    "                        result[j] = values[j + shift];\n",
    "                    } else {\n",
    "                        result[j] = values[j];\n",
    "                    }\n",
    "                }\n",
    "            } else {\n",
    "                for (int j = i; j < i + space; j++) {\n",
    "                    result[j] = values[j];\n",
    "                }\n",
    "            }\n",
    "        }\n",
    "        return result;\n",
    "    }\n",
    "}\n"
   ]
  },
  {
   "cell_type": "code",
   "execution_count": 1,
   "metadata": {
    "vscode": {
     "languageId": "java"
    }
   },
   "outputs": [],
   "source": [
    "public class ShiftArray {\n",
    "    public static void main(String[] args) {\n",
    "        int[] numbers = {1, 2, 3, 4, 5, 6, 7, 8, 9, 10, 11, 12, 13, 14, 15, 16, 17, 18, 19, 20};\n",
    "        int shift = 2;\n",
    "        int space = 4;\n",
    "\n",
    "        int[] shiftedArray = shiftRight(numbers, shift, space);\n",
    "\n",
    "        System.out.print(\"Resulting array: \");\n",
    "        for (int value : shiftedArray) {\n",
    "            System.out.print(value + \" \");\n",
    "        }\n",
    "        System.out.println();\n",
    "    }\n",
    "\n",
    "    private static int[] shiftRight(int[] values, int shift, int space) {\n",
    "        int[] result = new int[values.length];\n",
    "\n",
    "        for (int i = 0; i < values.length; i += space) {\n",
    "            for (int j = 0; j < space; j++) {\n",
    "                int indexToShift = i + j;\n",
    "                if (indexToShift < values.length) {\n",
    "                    int newIndex = indexToShift - shift;\n",
    "                    if (newIndex >= 0) {\n",
    "                        result[newIndex] = values[indexToShift];\n",
    "                    } else {\n",
    "                        result[indexToShift] = values[indexToShift]; \n",
    "                    }\n",
    "                }\n",
    "            }\n",
    "        }\n",
    "        return result;\n",
    "    }\n",
    "}\n"
   ]
  }
 ],
 "metadata": {
  "kernelspec": {
   "display_name": "java (IJava/j!)",
   "language": "java",
   "name": "jbang-ijava"
  },
  "language_info": {
   "codemirror_mode": "java",
   "file_extension": ".jshell",
   "mimetype": "text/x-java-source",
   "name": "Java",
   "pygments_lexer": "java",
   "version": "17.0.12+0"
  }
 },
 "nbformat": 4,
 "nbformat_minor": 2
}
