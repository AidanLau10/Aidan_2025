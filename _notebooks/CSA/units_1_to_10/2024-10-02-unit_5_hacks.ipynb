{
 "cells": [
  {
   "cell_type": "markdown",
   "metadata": {},
   "source": [
    "---\n",
    "layout: post\n",
    "toc: true\n",
    "title: Unit 5 Writing Classes Hacks\n",
    "description: Writing Classes Hacks\n",
    "categories: [AP CSA]\n",
    "courses: { csa: {week: 6} }\n",
    "type: ccc\n",
    "permalink: /unit5hacks\n",
    "---"
   ]
  },
  {
   "cell_type": "markdown",
   "metadata": {
    "vscode": {
     "languageId": "plaintext"
    }
   },
   "source": [
    "# Anatomy of a Class Hack(s)"
   ]
  },
  {
   "cell_type": "markdown",
   "metadata": {
    "vscode": {
     "languageId": "plaintext"
    }
   },
   "source": [
    "### Mini Project: Fix the Code\n",
    "\n",
    "- Below is a class with broken code. The goal is to fix the class so it properly initializes and uses instance variables.\n",
    "- Broken code:\n",
    "\n",
    "\n",
    "- **Task**: Debug the `Book` class so it correctly initializes `title` and `author`. Consider how the constructor should be modified."
   ]
  },
  {
   "cell_type": "code",
   "execution_count": 2,
   "metadata": {
    "vscode": {
     "languageId": "java"
    }
   },
   "outputs": [],
   "source": [
    "public class Book {\n",
    "    String title;\n",
    "    String author;\n",
    "\n",
    "    // Broken constructor\n",
    "    public Book(String title, String author) {\n",
    "        this.title = title;\n",
    "        this.author = author;\n",
    "    }\n",
    "}\n"
   ]
  },
  {
   "cell_type": "markdown",
   "metadata": {
    "vscode": {
     "languageId": "java"
    }
   },
   "source": [
    "# Constructor Hack(s)"
   ]
  },
  {
   "cell_type": "markdown",
   "metadata": {},
   "source": [
    "### Escape Room: Constructor Puzzle\n",
    "\n",
    "You're trapped in a room and the only way out is to unlock a door using your Java constructor knowledge!\n",
    "\n",
    "### Rules:\n",
    "- Each clue is a code snippet related to constructors. Solve the problems to reveal the next clue.\n",
    "- Once you complete all tasks, you will receive the \"escape\" message.\n",
    "\n",
    "### Clue 1: \n",
    "The constructor below is missing a key part. Complete the code so that it runs correctly.\n",
    "\n"
   ]
  },
  {
   "cell_type": "code",
   "execution_count": 3,
   "metadata": {
    "vscode": {
     "languageId": "java"
    }
   },
   "outputs": [
    {
     "name": "stdout",
     "output_type": "stream",
     "text": [
      "1234\n"
     ]
    }
   ],
   "source": [
    "// CLUE  1 \n",
    "\n",
    "class Door {\n",
    "    String lockCode;\n",
    "\n",
    "    // Add the correct constructor here\n",
    "    Door(String lock) {\n",
    "        // Constructor body\n",
    "        lockCode = lock;\n",
    "    }\n",
    "}\n",
    "\n",
    "\n",
    "Door escapeDoor = new Door(\"1234\");\n",
    "System.out.println(escapeDoor.lockCode);  // Should print: 1234\n"
   ]
  },
  {
   "cell_type": "code",
   "execution_count": 4,
   "metadata": {
    "vscode": {
     "languageId": "java"
    }
   },
   "outputs": [
    {
     "name": "stdout",
     "output_type": "stream",
     "text": [
      "Room: Puzzle Room, Area: 500\n"
     ]
    }
   ],
   "source": [
    "//CLUE 2\n",
    "\n",
    "class Room {\n",
    "    String name;\n",
    "    int area;\n",
    "\n",
    "    // Constructor 1\n",
    "    Room(String name) {\n",
    "        this.name = name;\n",
    "    }\n",
    "\n",
    "    // Constructor 2 (missing)\n",
    "    Room(String name, int area) {\n",
    "        this.name = name;\n",
    "        this.area = area;\n",
    "        // Complete this constructor\n",
    "        // Hint: Use the 'this' keyword\n",
    "    }\n",
    "}\n",
    "\n",
    "Room escapeRoom = new Room(\"Puzzle Room\", 500);\n",
    "System.out.println(\"Room: \" + escapeRoom.name + \", Area: \" + escapeRoom.area);  \n",
    "// Should print: Room: Puzzle Room, Area: 500\n"
   ]
  },
  {
   "cell_type": "code",
   "execution_count": 5,
   "metadata": {
    "vscode": {
     "languageId": "java"
    }
   },
   "outputs": [
    {
     "name": "stdout",
     "output_type": "stream",
     "text": [
      "Default Key: Unknown\n",
      "Custom Key: Golden Key\n"
     ]
    }
   ],
   "source": [
    "//CLUE 3\n",
    "class Key {\n",
    "    String keyType;\n",
    "\n",
    "    // Default constructor (to be completed)\n",
    "    Key() {\n",
    "        keyType = \"Unknown\";\n",
    "        // Hint: Initialize keyType to a default value, e.g., \"Unknown\"\n",
    "    }\n",
    "\n",
    "    // Parameterized constructor\n",
    "    Key(String keyType) {\n",
    "        this.keyType = keyType;\n",
    "    }\n",
    "}\n",
    "\n",
    "Key defaultKey = new Key();\n",
    "Key customKey = new Key(\"Golden Key\");\n",
    "\n",
    "System.out.println(\"Default Key: \" + defaultKey.keyType);  // Should print: Unknown\n",
    "System.out.println(\"Custom Key: \" + customKey.keyType);    // Should print: Golden Key\n"
   ]
  },
  {
   "cell_type": "code",
   "execution_count": 7,
   "metadata": {
    "vscode": {
     "languageId": "java"
    }
   },
   "outputs": [
    {
     "name": "stdout",
     "output_type": "stream",
     "text": [
      "Vault Code: null, Is Locked: false\n"
     ]
    }
   ],
   "source": [
    "//CLUE 4\n",
    "class Vault {\n",
    "    String vaultCode;\n",
    "    boolean isLocked;\n",
    "\n",
    "    // Constructor (Fix it)\n",
    "    Vault(String code, Boolean lockStatus) {\n",
    "        code = vaultCode;\n",
    "        lockStatus = isLocked;\n",
    "    }\n",
    "}\n",
    "\n",
    "Vault secretVault = new Vault(\"X1Y2Z3\", true);\n",
    "System.out.println(\"Vault Code: \" + secretVault.vaultCode + \", Is Locked: \" + secretVault.isLocked);\n",
    "// Should print: Vault Code: X1Y2Z3, Is Locked: true"
   ]
  },
  {
   "cell_type": "code",
   "execution_count": 9,
   "metadata": {
    "vscode": {
     "languageId": "java"
    }
   },
   "outputs": [
    {
     "name": "stdout",
     "output_type": "stream",
     "text": [
      "Vault Code: X1Y2Z3, Is Locked: true\n"
     ]
    }
   ],
   "source": [
    "//CLUE 4\n",
    "class Vault {\n",
    "    String vaultCode;\n",
    "    boolean isLocked;\n",
    "\n",
    "    // Constructor (Fix it)\n",
    "    Vault(String code, Boolean lockStatus) {\n",
    "        vaultCode = code;\n",
    "        isLocked = lockStatus;\n",
    "    }\n",
    "}\n",
    "\n",
    "Vault secretVault = new Vault(\"X1Y2Z3\", true);\n",
    "System.out.println(\"Vault Code: \" + secretVault.vaultCode + \", Is Locked: \" + secretVault.isLocked);\n",
    "// Should print: Vault Code: X1Y2Z3, Is Locked: true"
   ]
  },
  {
   "cell_type": "code",
   "execution_count": 10,
   "metadata": {
    "vscode": {
     "languageId": "java"
    }
   },
   "outputs": [
    {
     "name": "stdout",
     "output_type": "stream",
     "text": [
      "Unknown 100\n",
      "Treasure Safe 1000\n"
     ]
    }
   ],
   "source": [
    "//CLUE 5\n",
    "class Safe {\n",
    "    String safeName;\n",
    "    int capacity;\n",
    "\n",
    "    // Default constructor (to be written)\n",
    "    Safe() {\n",
    "        safeName = \"Unknown\";\n",
    "        capacity = 100;\n",
    "        // Initialize safeName to \"Unknown\" and capacity to 100\n",
    "    }\n",
    "\n",
    "    // Parameterized constructor (already complete)\n",
    "    Safe(String name, int cap) {\n",
    "        safeName = name;\n",
    "        capacity = cap;\n",
    "    }\n",
    "}\n",
    "\n",
    "Safe defaultSafe = new Safe();\n",
    "Safe customSafe = new Safe(\"Treasure Safe\", 1000);\n",
    "System.out.println(defaultSafe.safeName + \" \" + defaultSafe.capacity); // Outputs: Unknown 100\n",
    "System.out.println(customSafe.safeName + \" \" + customSafe.capacity);  // Outputs: Treasure Safe 1000"
   ]
  },
  {
   "cell_type": "code",
   "execution_count": 13,
   "metadata": {
    "vscode": {
     "languageId": "java"
    }
   },
   "outputs": [
    {
     "name": "stdout",
     "output_type": "stream",
     "text": [
      "Box Color: Red, Weight: 50\n"
     ]
    }
   ],
   "source": [
    "//CLUE 6\n",
    "class Box {\n",
    "    String color;\n",
    "    int weight;\n",
    "\n",
    "    // Constructor (with mistake)\n",
    "    Box(String color, int weight) {\n",
    "        this.color = color;\n",
    "        this.weight = weight;\n",
    "    }\n",
    "}\n",
    "\n",
    "Box myBox = new Box(\"Red\", 50);\n",
    "System.out.println(\"Box Color: \" + myBox.color + \", Weight: \" + myBox.weight);\n",
    "// Should print: Box Color: Red, Weight: 50"
   ]
  },
  {
   "cell_type": "code",
   "execution_count": null,
   "metadata": {
    "vscode": {
     "languageId": "java"
    }
   },
   "outputs": [],
   "source": [
    "//FINAL CLUE\n",
    "class TreasureChest {\n",
    "    String chestType;\n",
    "    int goldCoins;\n",
    "    boolean isLocked;\n",
    "\n",
    "    // Constructor 1: No parameters (use constructor chaining to call Constructor 2)\n",
    "    TreasureChest() {\n",
    "        // Call Constructor 2 with default values \"Wooden\", 50, true\n",
    "    }\n",
    "\n",
    "    // Constructor 2: Takes all parameters\n",
    "    TreasureChest(String type, int coins, boolean locked) {\n",
    "        chestType = type;\n",
    "        goldCoins = coins;\n",
    "        isLocked = locked;\n",
    "    }\n",
    "\n",
    "    // Constructor 3: Takes only type and coins, defaults 'isLocked' to true\n",
    "    TreasureChest(String type, int coins) {\n",
    "        // Use constructor chaining to call Constructor 2 with true as the 'isLocked' value\n",
    "    }\n",
    "\n",
    "    // Constructor 4: Takes only the number of coins and defaults type to \"Wooden\" and isLocked to false\n",
    "    TreasureChest(int coins) {\n",
    "        // Call Constructor 2 using \"Wooden\", coins, and false as values\n",
    "    }\n",
    "\n",
    "    // Print method to check the values\n",
    "    void printChestInfo() {\n",
    "        System.out.println(\"Chest Type: \" + chestType + \", Gold Coins: \" + goldCoins + \", Is Locked: \" + isLocked);\n",
    "    }\n",
    "}\n",
    "\n",
    "public class EscapeRoom {\n",
    "    public static void main(String[] args) {\n",
    "        // Test the different constructors by creating different objects\n",
    "        TreasureChest chest1 = new TreasureChest();\n",
    "        TreasureChest chest2 = new TreasureChest(\"Golden\", 100);\n",
    "        TreasureChest chest3 = new TreasureChest(200);\n",
    "\n",
    "        // Print information to check if everything works correctly\n",
    "        chest1.printChestInfo();  // Should print: Wooden, 50, true\n",
    "        chest2.printChestInfo();  // Should print: Golden, 100, true\n",
    "        chest3.printChestInfo();  // Should print: Wooden, 200, false\n",
    "\n",
    "        // Escape message when code is correctly fixed\n",
    "        if (chest1 != null && chest2 != null && chest3 != null) {\n",
    "            System.out.println(\"You have successfully escaped!\");\n",
    "        }\n",
    "    }\n",
    "}"
   ]
  },
  {
   "cell_type": "markdown",
   "metadata": {},
   "source": [
    "# Accessor Methods Hack(s)"
   ]
  },
  {
   "cell_type": "markdown",
   "metadata": {
    "vscode": {
     "languageId": "java"
    }
   },
   "source": [
    "### Popcorn Hack #1: \n",
    "\n",
    "Below is a constructor of a class, write the acccessor methods for all instance variables. "
   ]
  },
  {
   "cell_type": "code",
   "execution_count": null,
   "metadata": {
    "vscode": {
     "languageId": "java"
    }
   },
   "outputs": [],
   "source": [
    "public class Pet { \n",
    "\n",
    "    private String Name; \n",
    "    private String typeOfPet; \n",
    "    private int age;\n",
    "\n",
    "    public int age() {\n",
    "        return age;\n",
    "    }\n",
    "\n",
    "    public String typeOfPet() {\n",
    "        return typeOfPet;\n",
    "    }\n",
    "\n",
    "    public String getName() {\n",
    "        return Name;\n",
    "    }\n",
    "\n",
    "    public Pet (String n, String type, int a) {\n",
    "        Name = n;\n",
    "        typeOfPet = type;\n",
    "        age = a;\n",
    "    }\n",
    "    /* Type Constructors Here */\n",
    "}"
   ]
  },
  {
   "cell_type": "markdown",
   "metadata": {},
   "source": [
    "# Mutator Methods Hack(s)"
   ]
  },
  {
   "cell_type": "code",
   "execution_count": 20,
   "metadata": {
    "vscode": {
     "languageId": "java"
    }
   },
   "outputs": [],
   "source": [
    "public class Person {\n",
    "    // Private fields\n",
    "    private String name;\n",
    "    private int age;\n",
    "    private double height;\n",
    "\n",
    "    public Person(String name, int age, double height) {\n",
    "        this.name = name;\n",
    "        if (age > 0) {\n",
    "            this.age = age;\n",
    "        } else {\n",
    "            System.out.println(\"Age cant be negative\");\n",
    "        }\n",
    "        if (height > 0) {\n",
    "            this.height = height;\n",
    "        } else{\n",
    "            System.out.println(\"Height cant be negative\");\n",
    "        }\n",
    "\n",
    "    }\n",
    "\n",
    "    public void setName(String name) {\n",
    "        this.name = name;\n",
    "    }\n",
    "\n",
    "    public void setAge(int age) {\n",
    "        if (age > 0) {\n",
    "            this.age = age;\n",
    "        } else {\n",
    "            System.out.println(\"Age cant be negative\");\n",
    "        }\n",
    "    }\n",
    "\n",
    "    public void setHeight(double height) {\n",
    "        if (height > 0) {\n",
    "            this.height = height;\n",
    "        } else{\n",
    "            System.out.println(\"Height cant be negative\");\n",
    "        }\n",
    "    }\n",
    "}\n",
    "\n",
    "public static void main(String[] args) {\n",
    "    Person person = new Person(\"Lebron\", 10, 6.0);\n",
    "\n",
    "    System.out.println(\"Initial details: \" + person);\n",
    "\n",
    " \n",
    "    person.setName(\"Lebron James\");\n",
    "    System.out.println(\"Fixed name: \" + person);\n",
    "\n",
    "    person.setAge(40);\n",
    "    System.out.println(\"FIxed age: \" + person);\n",
    "\n",
    "    person.setHeight(6.9);\n",
    "    System.out.println(\"FIxed height: \" + person);\n",
    "\n",
    "    // test error handling\n",
    "    person.setAge(-40);\n",
    "    person.setHeight(-6.9);\n",
    "}"
   ]
  },
  {
   "cell_type": "markdown",
   "metadata": {},
   "source": [
    "# Static Variables Hack(s)"
   ]
  },
  {
   "cell_type": "code",
   "execution_count": 27,
   "metadata": {
    "vscode": {
     "languageId": "java"
    }
   },
   "outputs": [],
   "source": [
    "public class Vehicle {\n",
    "    static int count = 0;\n",
    "\n",
    "    // Constructor\n",
    "    public Vehicle() {\n",
    "        count++;\n",
    "    }\n",
    "\n",
    "    // Method\n",
    "    public static void displayCount() {\n",
    "        System.out.println(count);\n",
    "    }\n",
    "}"
   ]
  },
  {
   "cell_type": "markdown",
   "metadata": {},
   "source": [
    "# Homework Assignment: Constructors, Mutators, Accessors, and Static Variables in Java\n",
    "- Create a BankAccount class to practice working with constructors, mutators (setters), accessors (getters), and static variables in Java."
   ]
  },
  {
   "cell_type": "code",
   "execution_count": 34,
   "metadata": {
    "vscode": {
     "languageId": "java"
    }
   },
   "outputs": [],
   "source": [
    "public class BankAccount {\n",
    "    private String accountHolderName;\n",
    "    private double balance;\n",
    "    static int totalAccounts = 0;\n",
    "\n",
    "    public BankAccount() {\n",
    "        this.accountHolderName = \"Unknown\";\n",
    "        this.balance = 0.0;\n",
    "        totalAccounts++;\n",
    "    }\n",
    "\n",
    "    public BankAccount(String accountHolderName, double balance) {\n",
    "        this.accountHolderName = accountHolderName;\n",
    "        this.balance = balance;\n",
    "        totalAccounts++;\n",
    "    }\n",
    "\n",
    "    void setAccountHolderName(String name) {\n",
    "        this.name = name;\n",
    "    }\n",
    "\n",
    "    void deposit(double amount) {\n",
    "        if (amount > 0) {\n",
    "            this.balance += amount;\n",
    "        } else {\n",
    "            System.out.println(\"Amount deposited cant be negative\");\n",
    "        }\n",
    "    }\n",
    "\n",
    "    void withdraw(double amount) {\n",
    "        if (amount > 0 && this.balance >= amount) {\n",
    "            this.balance -= amount;\n",
    "        } else {\n",
    "            System.out.println(\"Amount withdrawn cant be negative\");\n",
    "        }\n",
    "    }\n",
    "\n",
    "    public String getAccountHolderName() {\n",
    "        return this.accountHolderName;\n",
    "    }\n",
    "\n",
    "    public double getBalance() {\n",
    "        return this.balance;\n",
    "    }\n",
    "\n",
    "    public static int getTotalAccounts() {\n",
    "        return totalAccounts;\n",
    "    }\n",
    "}\n",
    "\n",
    "public class BankApp {\n",
    "    public static void main(String[] args) {\n",
    "        BankAccount alice = new BankAccount(\"Alice\", 500.0);\n",
    "        BankAccount bob = new BankAccount(\"Bob\", 1000.0);\n",
    "        BankAccount charlie = new BankAccount(\"Charlie\", 750.0);\n",
    "\n",
    "        System.out.println(\"Account: \" + alice.getAccountHolderName());\n",
    "        System.out.println(\"Balance: \" + alice.getBalance());\n",
    "\n",
    "        System.out.println(\"Account: \" + bob.getAccountHolderName());\n",
    "        System.out.println(\"Balance: \" + bob.getBalance());\n",
    "\n",
    "        System.out.println(\"Account: \" + charlie.getAccountHolderName());\n",
    "        System.out.println(\"Balance: \" + charlie.getBalance());\n",
    "\n",
    "        System.out.println(\"\\nTotal number of accounts created: \" + BankAccount.getTotalAccounts());\n",
    "    }\n",
    "}"
   ]
  }
 ],
 "metadata": {
  "kernelspec": {
   "display_name": "java (IJava/j!)",
   "language": "java",
   "name": "jbang-ijava"
  },
  "language_info": {
   "codemirror_mode": "java",
   "file_extension": ".jshell",
   "mimetype": "text/x-java-source",
   "name": "Java",
   "pygments_lexer": "java",
   "version": "17.0.12+0"
  }
 },
 "nbformat": 4,
 "nbformat_minor": 2
}
