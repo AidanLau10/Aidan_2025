{
 "cells": [
  {
   "cell_type": "raw",
   "metadata": {
    "vscode": {
     "languageId": "raw"
    }
   },
   "source": [
    "---\n",
    "layout: post\n",
    "title: Sprint 1 - Planning\n",
    "description: Planning for Sprint 1\n",
    "type: issues\n",
    "comments: True\n",
    "permalink: /planning\n",
    "---"
   ]
  },
  {
   "cell_type": "markdown",
   "metadata": {},
   "source": [
    "## Current Progress for Issue\n",
    "[Issue](https://github.com/AidanLau10/CSAstudent/issues/1) \n",
    "\n",
    "## Goals\n",
    "- Day 1\n",
    "    - Discuss course goals and work and pick groups\n",
    "- Day 2\n",
    "    - Created an issue for Sprint 1 Tools and Software Development and completed items\n",
    "- Day 3\n",
    "    - Installed tools, use shell commands to verify tools\n",
    "\n",
    "- Week 1 Goal\n",
    "    - Use notebooks to plan and brainstorm before every project\n",
    "    - Complete Hacks by September 3rd\n",
    "\n",
    "## Accomplishments\n",
    "- Completed environment setup\n",
    "\n",
    "\n",
    "- Outfit Picker\n",
    "\n",
    "    - Outfit picker but you add clothes for certain countries and then you generate an outfit that country\n",
    "        - Japan Kimono\n",
    "        - Japan Workwear\n",
    "        - USA Wear"
   ]
  }
 ],
 "metadata": {
  "language_info": {
   "name": "python"
  }
 },
 "nbformat": 4,
 "nbformat_minor": 2
}
