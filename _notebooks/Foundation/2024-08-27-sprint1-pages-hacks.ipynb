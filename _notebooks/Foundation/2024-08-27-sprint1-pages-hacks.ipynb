{
 "cells": [
  {
   "cell_type": "raw",
   "metadata": {
    "vscode": {
     "languageId": "raw"
    }
   },
   "source": [
    "---\n",
    "layout: post\n",
    "title: Sprint 1 - Github Pages Hacks\n",
    "type: issues\n",
    "comments: True\n",
    "permalink: /hacks\n",
    "---"
   ]
  },
  {
   "cell_type": "markdown",
   "metadata": {},
   "source": [
    "# Shell Commands\n",
    "\n",
    "### Question\n",
    "- Take note and describe the type of shell commands you are using through Terminal in this installation procedure. This is specific to your machine.\n",
    "\n",
    "### Response\n",
    "\n",
    "- cd changes directories after you create directories and files\n",
    "- git allows you to interact with github and push changes\n",
    "- brew installs packagaes like python \n",
    "\n",
    "# Version Control\n",
    "\n",
    "### Questions\n",
    "- How are the files from GitHub placed on your local machine? How do you navigate to those files?\n",
    "- How are the files updated in GitHub? How do you navigate to those files?\n",
    "- How would you update your template of the portfolio_2025 repository? How would you make it more applicable to your specific course?\n",
    "\n",
    "### Response\n",
    "![GitLens]({{site.baseurl}}/images/gitlens.png)\n",
    "![GitLens Features]({{site.baseurl}}/images/gitlensfeatures.png)\n",
    "\n",
    "- To pull files from Github onto my machine, I clone the repository in my nighthawk directory and then use shell commands like cd to enter the directory and open it. \n",
    "\n",
    "- To update files in Github, I make changes locally in VSCode and then commit and push the changes to the github repo. The files changes will be shown in the Github repo.\n",
    "\n",
    "- I would pull the changes from the repository and then modify the jupyter notebook files. \n",
    "\n",
    "# Localhost vs. Deployed Server\n",
    "\n",
    "### Questions\n",
    "\n",
    "- Put into words the difference between viewing GitHub Pages running on your localhost machine versus running on a deployed server.\n",
    "- What is the localhost URL for your project? Can anyone else see what you see?\n",
    "- What is the GitHub Pages URL for your project? Can anyone else see what you see?\n",
    "\n",
    "### Response \n",
    "\n",
    "- Viewing Github pages reflects changes you make directly on your local machine while Github Pages on a deployed server requires committing changes to the Github server\n",
    "\n",
    "- My localhost url contains http://127.0.0.1:4100/aidan_2025/outfitpicker which is the same for everybody. 127.0.0.1 is the loopback address or localhost and 4100 is the port\n",
    "\n",
    "- My Github pages URL is https://aidanlau10.github.io/aidan_2025/ and it includes my username.github.io and my url\n",
    "\n",
    "# DNS and Github Pages\n",
    "\n",
    "### Questions\n",
    "- Is there a domain on your GitHub Pages?\n",
    "- Is the URL for your GitHub Pages different from your neighbors’ URLs? Did you change the URL? If so, when?\n",
    "\n",
    "### Response\n",
    "- The domain is your github username.github.io\n",
    "\n",
    "- The url of my github pages is different from my peers. It says student_2025 for them but I changed it in the config and makefile to say aidan_2025\n",
    "\n",
    "# Issues\n",
    "\n",
    "### Tools Verification Hacks\n",
    "\n",
    "- An issue I ran into when verifying my tools was creating the virtual environment in the terminal with scripts/venv.sh and source venv/bin/activate before opening the respository. Last year, I usually created the virtual environment within vscode using control shift p and selecting an python environment. \n",
    "\n",
    "### SASS Changes\n",
    "\n",
    "- I had trouble figuring out which file I had to change the CSS in. I figured it out by inspecting a page on my site and unchecking variables like backgrond-color to see where they're located and then searching it in my project directory. \n",
    "(_sass/minima/dracula/dark-mode.scss)\n",
    "(_sass/minima/dracula/styles.scss)\n",
    "\n",
    "### index.md\n",
    "\n",
    "- A probem I faced when doing my index.md page was adding images. I was used to using ../../../images/image.png to add the files but I think the way Jupyter Notebooks and the page is created affects it. I fixed it by adding {{site.baseurl}}/images/image.png.\n",
    "\n"
   ]
  }
 ],
 "metadata": {
  "language_info": {
   "name": "python"
  }
 },
 "nbformat": 4,
 "nbformat_minor": 2
}
