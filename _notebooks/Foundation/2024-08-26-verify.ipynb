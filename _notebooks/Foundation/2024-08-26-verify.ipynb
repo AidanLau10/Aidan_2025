{
 "cells": [
  {
   "cell_type": "raw",
   "metadata": {
    "vscode": {
     "languageId": "raw"
    }
   },
   "source": [
    "---\n",
    "layout: post\n",
    "title: Sprint 1 - Verify Tools\n",
    "type: issues\n",
    "comments: True\n",
    "permalink: /verify\n",
    "---"
   ]
  },
  {
   "cell_type": "markdown",
   "metadata": {},
   "source": [
    "# Version Check\n",
    "\n",
    "![Version Check]({{site.baseurl}}/images/verify/versions.png)\n",
    "\n",
    "# Verify Tools\n",
    "\n",
    "![Check 1]({{site.baseurl}}/images/verify/check1.png)\n",
    "![Check 2]({{site.baseurl}}/images/verify/check2.png)\n",
    "![Check 3]({{site.baseurl}}/images/verify/check3.png)\n",
    "![Check 4]({{site.baseurl}}/images/verify/check4.png)\n",
    "![Check 6]({{site.baseurl}}/images/verify/check6.png)\n",
    "![Check 7]({{site.baseurl}}/images/verify/check7.png)\n",
    "![Check 8]({{site.baseurl}}/images/verify/check8.png)\n",
    "![Check 9]({{site.baseurl}}/images/verify/check9.png)\n",
    "![Check 10]({{site.baseurl}}/images/verify/check10.png)\n",
    "![Check 11]({{site.baseurl}}/images/verify/check11.png)\n",
    "![Check 12]({{site.baseurl}}/images/verify/check12.png)\n",
    "![Check 13]({{site.baseurl}}/images/verify/check13.png)\n",
    "![Check 14]({{site.baseurl}}/images/verify/check14.png)\n"
   ]
  }
 ],
 "metadata": {
  "language_info": {
   "name": "python"
  }
 },
 "nbformat": 4,
 "nbformat_minor": 2
}
