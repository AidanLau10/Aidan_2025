{
 "cells": [
  {
   "cell_type": "raw",
   "metadata": {
    "vscode": {
     "languageId": "raw"
    }
   },
   "source": [
    "---\n",
    "layout: post\n",
    "title: Sprint 1 - Javascript\n",
    "description: Javascript fetch to get assignments from Canvas API\n",
    "type: issues\n",
    "comments: True\n",
    "permalink: /javascript\n",
    "---"
   ]
  },
  {
   "cell_type": "raw",
   "metadata": {
    "vscode": {
     "languageId": "raw"
    }
   },
   "source": [
    "<!DOCTYPE html>\n",
    "<html lang=\"en\">\n",
    "  <head>\n",
    "  \n",
    "  </head>\n",
    " \n",
    "<body>\n",
    "\n",
    "<div class=\"container\">\n",
    "    <div class=\"todo-app\">\n",
    "       \n",
    "        <h2>To-Do List<img src=\"images/icon.png\"></h2>\n",
    "        <div class=\"row\">\n",
    "            <input type=\"text\" id=\"input-box\" placeholder=\"Add your text\">\n",
    "            <button onclick=\"addTask()\">Add</button>\n",
    "        </div>\n",
    "        <ul id=\"list-container\">\n",
    "            <!-- <li class=\"checked\">Task 1</li>\n",
    "            <li>Task 2</li>\n",
    "            <li>Task 3</li> -->\n",
    "        </ul>\n",
    "    </div>\n",
    "    </iframe>\n",
    "</div>\n",
    "\n",
    "</body>\n",
    "</html>"
   ]
  },
  {
   "cell_type": "raw",
   "metadata": {
    "vscode": {
     "languageId": "raw"
    }
   },
   "source": [
    "<script>\n",
    "\n",
    "// creates variables for input box and lists \n",
    "const inputBox = document.getElementById(\"input-box\");\n",
    "const listContainer = document.getElementById(\"list-container\");\n",
    "\n",
    "// adds functionality to input box \n",
    "function addTask() {\n",
    "    if(inputBox.value === '') {\n",
    "        alert(\"You must write something!\");\n",
    "    }\n",
    "    else {\n",
    "        let li = document.createElement(\"li\");\n",
    "        li.innerHTML = inputBox.value;\n",
    "        listContainer.appendChild(li);\n",
    "        let span = document.createElement(\"span\");\n",
    "        span.innerHTML = \"\\u00d7\";\n",
    "        li.appendChild(span);\n",
    "    }\n",
    "    inputBox.value = \"\";\n",
    "    saveData();\n",
    "}\n",
    "\n",
    "// if click on a list element, check the checkbox. if click on the span element remove the list element.\n",
    "listContainer.addEventListener(\"click\", function(e) {\n",
    "    if(e.target.tagName === \"LI\") {\n",
    "        e.target.classList.toggle(\"checked\");\n",
    "        saveData();\n",
    "    }\n",
    "    else if(e.target.tagName === \"SPAN\") {\n",
    "        e.target.parentElement.remove();\n",
    "        saveData();\n",
    "    }\n",
    "}, false);\n",
    "\n",
    "// store any HTML data that the user saves. this means the user can click off the browser or page and their to do list will be saved.\n",
    "function saveData() {\n",
    "    localStorage.setItem(\"data\", listContainer.innerHTML);\n",
    "}\n",
    "\n",
    "// get list data from HTML\n",
    "function showTask() {\n",
    "    listContainer.innerHTML = localStorage.getItem(\"data\");\n",
    "}\n",
    "showTask();\n",
    "\n",
    "</script>"
   ]
  }
 ],
 "metadata": {
  "language_info": {
   "name": "python"
  }
 },
 "nbformat": 4,
 "nbformat_minor": 2
}
