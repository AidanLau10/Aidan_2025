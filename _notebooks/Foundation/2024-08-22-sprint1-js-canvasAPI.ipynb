{
 "cells": [
  {
   "cell_type": "raw",
   "metadata": {
    "vscode": {
     "languageId": "raw"
    }
   },
   "source": [
    "---\n",
    "layout: post\n",
    "title: Sprint 1 - Javascript\n",
    "description: Javascript fetch to get assignments from Canvas API\n",
    "type: issues\n",
    "comments: True\n",
    "permalink: /javascript\n",
    "---"
   ]
  },
  {
   "cell_type": "raw",
   "metadata": {
    "vscode": {
     "languageId": "raw"
    }
   },
   "source": [
    "<!DOCTYPE html>\n",
    "<html lang=\"en\">\n",
    "  <head>\n",
    "  \n",
    "  </head>\n",
    " \n",
    "<body>\n",
    "\n",
    "<div class=\"container\">\n",
    "    <div class=\"todo-app\">\n",
    "       \n",
    "        <h2>To-Do List<img src=\"images/icon.png\"></h2>\n",
    "        <div class=\"row\">\n",
    "            <input type=\"text\" id=\"input-box\" placeholder=\"Add your text\">\n",
    "            <button onclick=\"addTask()\">Add</button>\n",
    "        </div>\n",
    "        <ul id=\"list-container\">\n",
    "            <!-- <li class=\"checked\">Task 1</li>\n",
    "            <li>Task 2</li>\n",
    "            <li>Task 3</li> -->\n",
    "        </ul>\n",
    "    </div>\n",
    "    </iframe>\n",
    "</div>\n",
    "\n",
    "</body>\n",
    "</html>"
   ]
  }
 ],
 "metadata": {
  "language_info": {
   "name": "python"
  }
 },
 "nbformat": 4,
 "nbformat_minor": 2
}
