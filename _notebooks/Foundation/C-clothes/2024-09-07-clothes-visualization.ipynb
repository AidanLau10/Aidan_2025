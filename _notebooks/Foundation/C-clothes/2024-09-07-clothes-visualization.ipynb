{
 "cells": [
  {
   "cell_type": "raw",
   "metadata": {
    "vscode": {
     "languageId": "raw"
    }
   },
   "source": [
    "---\n",
    "layout: post\n",
    "title: Clothes Visualization\n",
    "\n",
    "type: ccc\n",
    "comments: False\n",
    "permalink: /clothes/visualization\n",
    "menu: nav/clothes.html\n",
    "---"
   ]
  },
  {
   "cell_type": "raw",
   "metadata": {
    "vscode": {
     "languageId": "raw"
    }
   },
   "source": [
    "\n",
    "<head>\n",
    " \n",
    "  <script src=\"https://cdn.plot.ly/plotly-latest.min.js\"></script>\n",
    "  <style>\n",
    "    body {\n",
    "      font-family: Arial, sans-serif;\n",
    "      text-align: center;\n",
    "    }\n",
    "    #chart {\n",
    "      width: 80%;\n",
    "      height: 600px;\n",
    "      margin: auto;\n",
    "    }\n",
    "  </style>\n",
    "</head>\n",
    "<body>\n",
    "  <h1>3D Visualization of Most Bought Shoe and Clothing Brands</h1>\n",
    "  <div id=\"chart\"></div>\n",
    "  \n",
    "  <script>\n",
    "    // Data for most bought brands\n",
    "    var brands = ['Nike', 'Adidas', 'Puma', 'Gucci', 'Zara'];\n",
    "    var brandsIndex = [0, 1, 2, 3, 4];\n",
    "    var shoesBought = [120, 100, 70, 60, 50];\n",
    "    var clothesBought = [80, 90, 40, 120, 110];\n",
    "    \n",
    "    // Create x, y, z coordinates\n",
    "    var x = [];\n",
    "    var y = [];\n",
    "    var z = [];\n",
    "\n",
    "    for (var i = 0; i < brands.length; i++) {\n",
    "      x.push(brandsIndex[i]);\n",
    "      y.push(0); // For shoes\n",
    "      z.push(shoesBought[i]);\n",
    "    }\n",
    "\n",
    "    for (var i = 0; i < brands.length; i++) {\n",
    "      x.push(brandsIndex[i]);\n",
    "      y.push(1); // For clothes\n",
    "      z.push(clothesBought[i]);\n",
    "    }\n",
    "\n",
    "    // Trace for 3D bar chart\n",
    "    var trace = {\n",
    "      x: x,\n",
    "      y: y,\n",
    "      z: z,\n",
    "      mode: 'markers',\n",
    "      type: 'scatter3d',\n",
    "      marker: {\n",
    "        size: 8,\n",
    "        color: z,\n",
    "        colorscale: 'Viridis',\n",
    "        opacity: 0.8\n",
    "      },\n",
    "      text: brands.concat(brands), // Show brand names in hover\n",
    "      hoverinfo: 'text+z'\n",
    "    };\n",
    "\n",
    "    // Layout configuration\n",
    "    var layout = {\n",
    "      title: '3D Visualization of Most Bought Shoe and Clothing Brands',\n",
    "      scene: {\n",
    "        xaxis: { title: 'Brand Index', tickvals: brandsIndex, ticktext: brands },\n",
    "        yaxis: { title: 'Category (0: Shoes, 1: Clothes)' },\n",
    "        zaxis: { title: 'Number of Items Sold' }\n",
    "      },\n",
    "      margin: { l: 0, r: 0, b: 0, t: 40 }\n",
    "    };\n",
    "\n",
    "    // Render the plot\n",
    "    Plotly.newPlot('chart', [trace], layout);\n",
    "  </script>\n",
    "</body>\n",
    "\n"
   ]
  }
 ],
 "metadata": {
  "language_info": {
   "name": "python"
  }
 },
 "nbformat": 4,
 "nbformat_minor": 2
}
