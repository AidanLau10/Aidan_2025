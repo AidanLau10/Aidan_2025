{
 "cells": [
  {
   "cell_type": "raw",
   "metadata": {
    "vscode": {
     "languageId": "raw"
    }
   },
   "source": [
    "---\n",
    "layout: post\n",
    "title: Home\n",
    "type: post\n",
    "comments: True\n",
    "permalink: /clothes/home\n",
    "menu: nav/clothes.html\n",
    "---"
   ]
  },
  {
   "cell_type": "raw",
   "metadata": {
    "vscode": {
     "languageId": "raw"
    }
   },
   "source": [
    "<div>\n",
    "    <h1>Brainwrite</h1>\n",
    "    <p>Im interested in creating simple but cool outfits and not spending too much time every thinking about what I should put on.</p>\n",
    "    <button onclick=\"displayClothes()\">Clothes I Like</button>\n",
    "    <ol id=\"clothes\">\n",
    "    \n",
    "    </ol>\n",
    "</div>"
   ]
  },
  {
   "cell_type": "raw",
   "metadata": {
    "vscode": {
     "languageId": "raw"
    }
   },
   "source": [
    "<script>\n",
    "function displayClothes() {\n",
    "    document.getElementById(\"clothes\").innerHTML = `\n",
    "        <li>Shorts/Jorts</li>\n",
    "        <img src=\"{{site.baseurl}}/images/outfits/jorts.jpg\">\n",
    "\n",
    "        <li>Jeans</li>\n",
    "        <img src=\"{{site.baseurl}}/images/outfits/jeans.jpg\">\n",
    "\n",
    "        <li>Jackets/Hoodies/Quarter Zip</li>\n",
    "        <img src=\"{{site.baseurl}}/images/outfits/quarterzip.jpg\">\n",
    "\n",
    "        <li>Long sleeves</li>\n",
    "        <img src=\"{{site.baseurl}}/images/outfits/stussylongsleeve.jpg\">\n",
    "    `;\n",
    "}\n",
    "</script>"
   ]
  }
 ],
 "metadata": {
  "language_info": {
   "name": "python"
  }
 },
 "nbformat": 4,
 "nbformat_minor": 2
}
