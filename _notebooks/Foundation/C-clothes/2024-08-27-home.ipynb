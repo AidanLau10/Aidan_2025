{
 "cells": [
  {
   "cell_type": "raw",
   "metadata": {
    "vscode": {
     "languageId": "raw"
    }
   },
   "source": [
    "---\n",
    "layout: post\n",
    "title: Clothes Home\n",
    "type: post\n",
    "comments: True\n",
    "permalink: /clothes/home\n",
    "menu: nav/clothes.html\n",
    "---"
   ]
  },
  {
   "cell_type": "markdown",
   "metadata": {},
   "source": [
    "### Brainwrite\n",
    "\n",
    "- Im interested in creating simple but cool outfits and not spending too much time every thinking about what I should put on. Some types of clothes I like are:\n",
    "\n",
    "1. Shorts/Jorts\n",
    "![Jorts]({{site.baseurl}}/images/outfits/jorts.jpg)\n",
    "\n",
    "2. Jeans\n",
    "![Jeans]({{site.baseurl}}/images/outfits/jeans.jpg)\n",
    "\n",
    "3. Jackets/Hoodies/Quarter Zip\n",
    "![Quarter Zip]({{site.baseurl}}/images/outfits/quarterzip.jpg)\n",
    "\n",
    "4. Long sleeves\n",
    "![Stussy Long Sleeve]({{site.baseurl}}/images/outfits/stussylongsleeve.jpg)\n",
    "\n"
   ]
  }
 ],
 "metadata": {
  "language_info": {
   "name": "python"
  }
 },
 "nbformat": 4,
 "nbformat_minor": 2
}
