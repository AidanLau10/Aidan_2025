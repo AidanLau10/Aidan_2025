{
 "cells": [
  {
   "cell_type": "raw",
   "metadata": {
    "vscode": {
     "languageId": "raw"
    }
   },
   "source": [
    "---\n",
    "layout: post\n",
    "title: Map\n",
    "\n",
    "type: ccc\n",
    "comments: False\n",
    "permalink: /clothes/map\n",
    "menu: nav/clothes.html\n",
    "---"
   ]
  },
  {
   "cell_type": "raw",
   "metadata": {
    "vscode": {
     "languageId": "raw"
    }
   },
   "source": [
    "\n",
    "\n",
    "<head>\n",
    "    \n",
    "    <link rel=\"stylesheet\" href=\"https://unpkg.com/leaflet/dist/leaflet.css\" />\n",
    "    <style>\n",
    "        #map {\n",
    "            height: 500px;\n",
    "        }\n",
    "        .leaflet-popup-content img {\n",
    "            max-width: 100%;\n",
    "            height: auto;\n",
    "        }\n",
    "    </style>\n",
    "</head>\n",
    "<body>\n",
    "    <div id=\"map\"></div>\n",
    "    \n",
    "    <script src=\"https://unpkg.com/leaflet/dist/leaflet.js\"></script>\n",
    "    <script>\n",
    "        // Initialize the map\n",
    "        var map = L.map('map').setView([20, 0], 2); // Centered globally with a zoom level of 2\n",
    "\n",
    "        // Add a tile layer (Map provider)\n",
    "        L.tileLayer('https://{s}.tile.openstreetmap.org/{z}/{x}/{y}.png', {\n",
    "            attribution: '&copy; <a href=\"https://www.openstreetmap.org/copyright\">OpenStreetMap</a> contributors'\n",
    "        }).addTo(map);\n",
    "\n",
    "        // Function to create content for pop-ups\n",
    "        function getPopupContent(country) {\n",
    "            var content = '';\n",
    "            switch(country) {\n",
    "                case 'USA':\n",
    "                    content = '<h3>USA</h3><p>Information about US clothing style.</p><img src=\"usa-clothing.jpg\" alt=\"USA Clothing\" style=\"width: 200px;\">';\n",
    "                    break;\n",
    "                case 'Japan':\n",
    "                    content = '<h3>Japan</h3><p>Information about Japanese clothing style.</p><img src=\"japan-clothing.jpg\" alt=\"Japan Clothing\" style=\"width: 200px;\">';\n",
    "                    break;\n",
    "                case 'China':\n",
    "                    content = '<h3>China</h3><p>Information about Chinese clothing style.</p><img src=\"china-clothing.jpg\" alt=\"China Clothing\" style=\"width: 200px;\">';\n",
    "                    break;\n",
    "            }\n",
    "            return content;\n",
    "        }\n",
    "\n",
    "        // Add markers to the map\n",
    "        var usaMarker = L.marker([37.0902, -95.7129]).addTo(map);\n",
    "        usaMarker.bindPopup(getPopupContent('USA'));\n",
    "\n",
    "        var japanMarker = L.marker([36.2048, 138.2529]).addTo(map);\n",
    "        japanMarker.bindPopup(getPopupContent('Japan'));\n",
    "\n",
    "        var chinaMarker = L.marker([35.8617, 104.1954]).addTo(map);\n",
    "        chinaMarker.bindPopup(getPopupContent('China'));\n",
    "    </script>\n",
    "</body>\n",
    "\n"
   ]
  }
 ],
 "metadata": {
  "language_info": {
   "name": "python"
  }
 },
 "nbformat": 4,
 "nbformat_minor": 2
}
