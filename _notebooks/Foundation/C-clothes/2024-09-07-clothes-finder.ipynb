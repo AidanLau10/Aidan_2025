{
 "cells": [
  {
   "cell_type": "raw",
   "metadata": {
    "vscode": {
     "languageId": "raw"
    }
   },
   "source": [
    "---\n",
    "layout: post\n",
    "title: Finder\n",
    "\n",
    "type: ccc\n",
    "comments: False\n",
    "permalink: /clothes/finder\n",
    "menu: nav/clothes.html\n",
    "---"
   ]
  },
  {
   "cell_type": "raw",
   "metadata": {
    "vscode": {
     "languageId": "raw"
    }
   },
   "source": [
    "\n",
    "<head>\n",
    "\n",
    "    <style>\n",
    "        #imageContainer img {\n",
    "            width: 150px;\n",
    "            margin: 10px;\n",
    "            cursor: pointer;\n",
    "        }\n",
    "    </style>\n",
    "</head>\n",
    "<body>\n",
    "    <h1>Search Pinterest for Categories</h1>\n",
    "\n",
    "    <button onclick=\"setCategory('shirts')\">Shirts</button>\n",
    "    <button onclick=\"setCategory('pants')\">Pants</button>\n",
    "    <button onclick=\"setCategory('shoes')\">Shoes</button>\n",
    "    <button onclick=\"setCategory('bottoms')\">Bottoms</button>\n",
    "\n",
    "    <div id=\"imageContainer\"></div>\n",
    "\n",
    "    <button onclick=\"displayLikedItems()\">View Liked Items</button>\n",
    "\n",
    "    <script>\n",
    "        let searchCategory = 'shirts';  // Default search category\n",
    "        const accessToken = 'YOUR_ACCESS_TOKEN'; \n",
    "\n",
    "        // Function to search Pinterest for pins based on category\n",
    "        async function searchPinterest() {\n",
    "            const url = `https://api.pinterest.com/v5/search/pins/?query=${searchCategory}&access_token=${accessToken}`;\n",
    "            try {\n",
    "                const response = await fetch(url);\n",
    "                const data = await response.json();\n",
    "                displayImages(data.pins);  // Call function to display pins\n",
    "            } catch (error) {\n",
    "                console.error('Error fetching data:', error);\n",
    "            }\n",
    "        }\n",
    "\n",
    "        // Function to display fetched pins on the page\n",
    "        function displayImages(pins) {\n",
    "            const container = document.getElementById('imageContainer');\n",
    "            container.innerHTML = '';  // Clear previous images\n",
    "\n",
    "            pins.forEach(pin => {\n",
    "                const img = document.createElement('img');\n",
    "                img.src = pin.images.original.url;\n",
    "                img.alt = pin.title;\n",
    "                img.onclick = () => saveToLiked(pin);  // Save pin when clicked\n",
    "                container.appendChild(img);\n",
    "            });\n",
    "        }\n",
    "\n",
    "        // Function to save a pin to localStorage as a liked item\n",
    "        function saveToLiked(pin) {\n",
    "            let likedItems = JSON.parse(localStorage.getItem('likedItems')) || [];\n",
    "            likedItems.push(pin);\n",
    "            localStorage.setItem('likedItems', JSON.stringify(likedItems));\n",
    "            alert('Item saved to Liked');\n",
    "        }\n",
    "\n",
    "        // Function to display saved liked items from localStorage\n",
    "        function displayLikedItems() {\n",
    "            const likedItems = JSON.parse(localStorage.getItem('likedItems')) || [];\n",
    "            const container = document.getElementById('imageContainer');\n",
    "            container.innerHTML = '';  // Clear the container\n",
    "\n",
    "            likedItems.forEach(item => {\n",
    "                const img = document.createElement('img');\n",
    "                img.src = item.images.original.url;\n",
    "                img.alt = item.title;\n",
    "                container.appendChild(img);\n",
    "            });\n",
    "        }\n",
    "\n",
    "        // Function to set the search category dynamically and fetch new pins\n",
    "        function setCategory(category) {\n",
    "            searchCategory = category;\n",
    "            searchPinterest();  // Fetch new data based on the selected category\n",
    "        }\n",
    "\n",
    "        // Initial Pinterest search for the default category\n",
    "        searchPinterest();\n",
    "    </script>\n",
    "</body>\n",
    "\n"
   ]
  }
 ],
 "metadata": {
  "language_info": {
   "name": "python"
  }
 },
 "nbformat": 4,
 "nbformat_minor": 2
}
